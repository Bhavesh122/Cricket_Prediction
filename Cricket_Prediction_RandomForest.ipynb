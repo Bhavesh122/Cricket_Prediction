{
  "nbformat": 4,
  "nbformat_minor": 0,
  "metadata": {
    "colab": {
      "provenance": [],
      "authorship_tag": "ABX9TyMkzzJy8aHC51uEUczZNIFb",
      "include_colab_link": true
    },
    "kernelspec": {
      "name": "python3",
      "display_name": "Python 3"
    },
    "language_info": {
      "name": "python"
    }
  },
  "cells": [
    {
      "cell_type": "markdown",
      "metadata": {
        "id": "view-in-github",
        "colab_type": "text"
      },
      "source": [
        "<a href=\"https://colab.research.google.com/github/Bhavesh122/Cricket_Prediction/blob/master/Cricket_Prediction_RandomForest.ipynb\" target=\"_parent\"><img src=\"https://colab.research.google.com/assets/colab-badge.svg\" alt=\"Open In Colab\"/></a>"
      ]
    },
    {
      "cell_type": "code",
      "execution_count": null,
      "metadata": {
        "id": "VvNH7XGr3H2G"
      },
      "outputs": [],
      "source": [
        "#Forecasting Player Injury Risk based on Age, Weight, and Match History\n",
        "#RandomForestClassifier\n"
      ]
    },
    {
      "cell_type": "code",
      "source": [
        "# Import necessary libraries\n",
        "import numpy as np\n",
        "from sklearn.model_selection import train_test_split\n",
        "from sklearn.ensemble import RandomForestClassifier\n",
        "from sklearn.metrics import accuracy_score, confusion_matrix\n",
        "\n",
        "# Generate some sample data (Replace this with your actual data)\n",
        "# Assume X contains features like age, weight, and total matches played in the last 20 days\n",
        "# Assume y contains binary labels indicating whether an injury occurred (1) or not (0)\n",
        "\n",
        "# Sample data (Replace with your actual dataset)\n",
        "X = np.array([[25, 70, 5], [28, 75, 4], [30, 80, 6], [35, 85, 5], [40, 90, 7]])\n",
        "y = np.array([0, 0, 1, 0, 1])\n",
        "\n",
        "# Split the data into training and testing sets\n",
        "X_train, X_test, y_train, y_test = train_test_split(X, y, test_size=0.2, random_state=42)\n",
        "\n",
        "# Initialize the Random Forest classifier\n",
        "model = RandomForestClassifier()\n",
        "\n",
        "# Train the model on the training data\n",
        "model.fit(X_train, y_train)\n",
        "\n",
        "# Make predictions on the test set\n",
        "y_pred = model.predict(X_test)\n",
        "\n",
        "# Calculate accuracy\n",
        "accuracy = accuracy_score(y_test, y_pred)\n",
        "print(f\"Accuracy: {accuracy}\")\n",
        "\n",
        "# Calculate confusion matrix\n",
        "conf_matrix = confusion_matrix(y_test, y_pred)\n",
        "print(\"Confusion Matrix:\")\n",
        "print(conf_matrix)\n",
        "\n",
        "# Use the model to make predictions on new data\n",
        "new_data = np.array([[45, 95, 8], [50, 100, 9]])\n",
        "new_predictions = model.predict(new_data)\n",
        "print(f\"Predicted Injury Risk for new data: {new_predictions}\")\n"
      ],
      "metadata": {
        "colab": {
          "base_uri": "https://localhost:8080/"
        },
        "id": "CupdqV7v6E3q",
        "outputId": "0590e16d-6d03-4bae-92d9-8bbab68aa738"
      },
      "execution_count": null,
      "outputs": [
        {
          "output_type": "stream",
          "name": "stdout",
          "text": [
            "Accuracy: 1.0\n",
            "Confusion Matrix:\n",
            "[[1]]\n",
            "Predicted Injury Risk for new data: [1 1]\n"
          ]
        }
      ]
    }
  ]
}